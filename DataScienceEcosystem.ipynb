{
 "cells": [
  {
   "cell_type": "markdown",
   "id": "4bec0f3e-55c9-4d59-a81c-ff0b8364e9f4",
   "metadata": {},
   "source": [
    "<h1>Data Science Tools and Ecosystem"
   ]
  },
  {
   "cell_type": "markdown",
   "id": "6cb70cff-1781-49c8-b189-630e7bf91bfb",
   "metadata": {},
   "source": [
    "In this notebook, Data Science Tools and Ecosystem are summarized."
   ]
  },
  {
   "cell_type": "markdown",
   "id": "43073c71-5423-483b-9aae-ca47502550c1",
   "metadata": {},
   "source": [
    "Some of the popular languages that Data Scientists use are:"
   ]
  },
  {
   "cell_type": "markdown",
   "id": "57fad54a-6025-4b86-b62d-41167716629e",
   "metadata": {
    "tags": []
   },
   "source": [
    "* C++\n",
    "* Java\n",
    "* Python"
   ]
  },
  {
   "cell_type": "markdown",
   "id": "bb47295a-650a-4690-b3be-856f3e37bf9d",
   "metadata": {},
   "source": [
    "Some of the commonly used libraries used by Data Scientists include:"
   ]
  },
  {
   "cell_type": "markdown",
   "id": "1b88d439-825e-4bc7-8f21-5409e47bb06c",
   "metadata": {},
   "source": [
    "* Tensorflow\n",
    "* Pandas\n",
    "* Numpy"
   ]
  },
  {
   "cell_type": "markdown",
   "id": "26b91237-e73b-4913-a5a0-beead41612ce",
   "metadata": {
    "tags": []
   },
   "source": [
    "|Data Science Tools|\n",
    "|----|\n",
    "|Apache Spark|\n",
    "|IBM SPSS|\n",
    "|Julia|"
   ]
  },
  {
   "cell_type": "markdown",
   "id": "066a5b96-e8a8-4314-9749-f02c0243a8d3",
   "metadata": {},
   "source": [
    "<h3>Below are a few examples of evaluating arithmetic expressions in Python"
   ]
  },
  {
   "cell_type": "code",
   "execution_count": 5,
   "id": "85ad8978-7fd4-4981-b971-b29b1bec97e7",
   "metadata": {
    "tags": []
   },
   "outputs": [
    {
     "data": {
      "text/plain": [
       "17"
      ]
     },
     "execution_count": 5,
     "metadata": {},
     "output_type": "execute_result"
    }
   ],
   "source": [
    "# This a simple arithmetic expression to mutiply then add integers\n",
    "(3*4)+5"
   ]
  },
  {
   "cell_type": "code",
   "execution_count": 6,
   "id": "2eb13b43-4450-4d7b-a735-bdcbe849b127",
   "metadata": {
    "tags": []
   },
   "outputs": [
    {
     "data": {
      "text/plain": [
       "3.3333333333333335"
      ]
     },
     "execution_count": 6,
     "metadata": {},
     "output_type": "execute_result"
    }
   ],
   "source": [
    "# This will convert 200 minutes to hours by diving by 60\n",
    "200/60"
   ]
  },
  {
   "cell_type": "markdown",
   "id": "0f8a4c87-303a-4fc2-8bd2-a854428138d3",
   "metadata": {},
   "source": [
    "**Objectives:**"
   ]
  },
  {
   "cell_type": "markdown",
   "id": "4ca9423b-ba87-4a98-9939-3d576442340e",
   "metadata": {},
   "source": [
    "* List popular tools for Data Science\n",
    "* List commonly used libraries used by Data Scientists include:\n",
    "* List popular languages for Data Science"
   ]
  },
  {
   "cell_type": "markdown",
   "id": "e8654056-d6b0-480d-b3ec-d8691588e454",
   "metadata": {},
   "source": [
    "<h2>Author"
   ]
  },
  {
   "cell_type": "markdown",
   "id": "e2085f91-12bf-4766-9e48-bcc6bab73062",
   "metadata": {},
   "source": [
    "Prasad Takwane"
   ]
  }
 ],
 "metadata": {
  "kernelspec": {
   "display_name": "Python",
   "language": "python",
   "name": "conda-env-python-py"
  },
  "language_info": {
   "codemirror_mode": {
    "name": "ipython",
    "version": 3
   },
   "file_extension": ".py",
   "mimetype": "text/x-python",
   "name": "python",
   "nbconvert_exporter": "python",
   "pygments_lexer": "ipython3",
   "version": "3.7.12"
  }
 },
 "nbformat": 4,
 "nbformat_minor": 5
}
